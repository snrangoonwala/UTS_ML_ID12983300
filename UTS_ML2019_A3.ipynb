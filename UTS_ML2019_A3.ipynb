{
  "nbformat": 4,
  "nbformat_minor": 0,
  "metadata": {
    "colab": {
      "name": "UTS_ML2019_A3.ipynb",
      "provenance": [],
      "include_colab_link": true
    },
    "kernelspec": {
      "name": "python3",
      "display_name": "Python 3"
    }
  },
  "cells": [
    {
      "cell_type": "markdown",
      "metadata": {
        "id": "view-in-github",
        "colab_type": "text"
      },
      "source": [
        "<a href=\"https://colab.research.google.com/github/snrangoonwala/UTS_ML_ID12983300/blob/master/UTS_ML2019_A3.ipynb\" target=\"_parent\"><img src=\"https://colab.research.google.com/assets/colab-badge.svg\" alt=\"Open In Colab\"/></a>"
      ]
    },
    {
      "cell_type": "markdown",
      "metadata": {
        "id": "3ABGezTY7Yem",
        "colab_type": "text"
      },
      "source": [
        "#ASSIGNMENT 3\n",
        "\n",
        "##32513 MACHINE LEARNING\n",
        "##PITCH AND PLAN FOR SOLVING PROBLEM\n",
        "\n",
        "                                           STUDENT ID: 12983300\n",
        "                                           STUDENT NAME: SHIVANG RANGOONWALA\n",
        "\n",
        "\n",
        "##PREDICTION OF CUSTOMER CHURNS IN ECOMMERCE "
      ]
    },
    {
      "cell_type": "markdown",
      "metadata": {
        "id": "KFgn5onbK8jO",
        "colab_type": "text"
      },
      "source": [
        "###INTRODUCTION\n",
        "\n"
      ]
    }
  ]
}