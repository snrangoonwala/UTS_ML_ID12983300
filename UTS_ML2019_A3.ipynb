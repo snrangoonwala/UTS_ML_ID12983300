{
  "nbformat": 4,
  "nbformat_minor": 0,
  "metadata": {
    "colab": {
      "name": "UTS_ML2019_A3.ipynb",
      "provenance": [],
      "include_colab_link": true
    },
    "kernelspec": {
      "name": "python3",
      "display_name": "Python 3"
    }
  },
  "cells": [
    {
      "cell_type": "markdown",
      "metadata": {
        "id": "view-in-github",
        "colab_type": "text"
      },
      "source": [
        "<a href=\"https://colab.research.google.com/github/snrangoonwala/UTS_ML_ID12983300/blob/master/UTS_ML2019_A3.ipynb\" target=\"_parent\"><img src=\"https://colab.research.google.com/assets/colab-badge.svg\" alt=\"Open In Colab\"/></a>"
      ]
    },
    {
      "cell_type": "markdown",
      "metadata": {
        "id": "3ABGezTY7Yem",
        "colab_type": "text"
      },
      "source": [
        "#ASSIGNMENT 3\n",
        "\n",
        "##32513 MACHINE LEARNING\n",
        "##PITCH AND PLAN FOR SOLVING PROBLEM\n",
        "\n",
        "                                           STUDENT ID: 12983300\n",
        "                                           STUDENT NAME: SHIVANG RANGOONWALA\n",
        "\n",
        "\n",
        "##PREDICTION OF CUSTOMER CHURNS IN ECOMMERCE "
      ]
    },
    {
      "cell_type": "markdown",
      "metadata": {
        "id": "KFgn5onbK8jO",
        "colab_type": "text"
      },
      "source": [
        "###INTRODUCTION\n",
        "\n",
        "\n",
        "From 1990s, the usage of internet started growing exponentially. It allowed the internet users to explore the world by sitting infront of machine. E-commerce started growing during this era. As per the figure(1), from 1999 to 2007 the number of users started  growing. With increase of competition, companies started building algorithms to give personalized recommendation based on user's likes. Organization started giving offers to lure customers so that they remain with the service/product/process. This has opened vast option for the internet users to choose from. This is the reason, sometimes customers leave the service and jump to other service providers. It is a threatening situation if we see it from business aspects. That is the reason, it becomes important to predict customer churns so that organization can make necessary changes in the product/process and keep the company growth steady.  \n",
        "\n",
        "The users started liking the new era of shopping, where they can search products from large database, add it in their preference list, buy it when they can afford it. One of the first E-commerce is Amazon Inc. found in 1994. Although, intial years were difficult to survive but in 2006, it represented profit for the first time. The fundamental of e-commerce is to eliminate middle men and supply goods directly to the buyers from vendors. \n",
        "\n"
      ]
    },
    {
      "cell_type": "markdown",
      "metadata": {
        "id": "O1zIG4ke0aN-",
        "colab_type": "text"
      },
      "source": [
        "###AIM AND OBJECTIVES\n",
        "\n",
        "\n",
        "**AIM**\n",
        "\n",
        "The aim of the project is to suggest an hybrid model that forecast B2C (Business to Customer) customer churns and categorize the customers that are likely to leave the organizations. \n",
        "\n",
        "**OBJECTIVES**\n",
        "\n",
        "\n",
        "\n",
        "*   Collect raw data from the database\n",
        "*   Identify customers' purchase pattern\n",
        "\n",
        "*   Identify the cause of churning\n",
        "*   Build prototype to identify customers churn\n",
        "\n",
        "\n",
        "*   Build strategies to retain customers.\n",
        "\n",
        "\n",
        "\n",
        "\n",
        "\n",
        "\n"
      ]
    },
    {
      "cell_type": "markdown",
      "metadata": {
        "id": "cuIy3MsJ1Caz",
        "colab_type": "text"
      },
      "source": [
        "###BACKGROUND\n",
        "\n",
        "Customers are the backbone of e-commerce field. With increasing of competition in e-commerce growth rate of new customers as well as retention of existing customers are equally customers. This will help an organization to remain in the market. \n",
        "\n",
        "Most of the e-commerce organizations use CRM to create and retain cutomers. With reach of customers globally, CRM has been used from very beginning. CRM is used to give personal recommendation for the services users willling to pay for. CRM has below four perspective:\n",
        "\n",
        "\n",
        "\n",
        "1.   Customer Identification\n",
        "2.   Attract customers\n",
        "3.   Retain customers\n",
        "4.   Develop customer relationship\n",
        "\n",
        "It helps earning profits not only by exchanging services in exchange of payments but by maintaining relationship with customers. \n",
        "\n"
      ]
    },
    {
      "cell_type": "markdown",
      "metadata": {
        "id": "ekG4kkz61Fwf",
        "colab_type": "text"
      },
      "source": [
        "###RESEARCH PROJECT\n",
        "\n",
        "###IMPORTANCE OF THE PROJECT\n",
        "\n",
        "Every business tries to grow in the market and hope to give better customer service and fulfill the customer's expectation. This will help customer to be loyal. Therefore, the importance of the organization depends in understanding client's expectation and requirement from the service providers. To attract the customers, the venture offers promotion codes, customized offers, rebates to the customers and keep the clients loyal to the venture. If the offer is given to all the customers then it will be loss for the organizations. That is the reason, organization has to identify and predict the customers who might leave the providers and join another service providers. This way company can keep a track on customers and keep the loyality at lower cost.\n",
        "\n",
        "### PLAN OF ACTION (POA)\n",
        "\n",
        "We will be achieving objectives by dividing the tasks in stages. Please find the tasks briefly mentioned below:\n",
        "\n",
        "**TASK 1- Collect Data**\n",
        "\n",
        "Huge number of data will be collected of organization's customers. It is the most important task to predict the customer's behaviour effectively. The available data could be in different format and different database (For example different Data Marts), which needs to be integrated and maintained into a uniform database. \n",
        "\n",
        "**TASK 2: IDENTIFY CUSTOMER'S PURCHASE HISTORY**\n",
        "\n",
        "Once the data is organized, it can be studied and explored the dataset to find out behaviours and patterns. The data then can be visualized on charts, histograms, plots so that non-technicals personnel and organization heads can understand and make business strategy based on that. We also implement clustering, segmentation algorithms, anomaly detection to detect unusual patterns.\n",
        "\n",
        "\n",
        "\n",
        "**TASK 3: IDENTIFY REASONS FOR CUSTOMER CHURNS**\n",
        "\n",
        "Visualization of data might help to identify the major reasons of customer leaving the services. Those reasons will help venture to reevaluate the strategy and change specific customer pain. \n",
        "\n",
        "**TASK 4: PREPARE MODEL TO INSIGHT CUSTOMER CHURNS\n",
        "\n",
        "Once data is collected, prepare a model which idm\n"
      ]
    },
    {
      "cell_type": "markdown",
      "metadata": {
        "id": "ka7EHQVa1KxR",
        "colab_type": "text"
      },
      "source": [
        "###PROJECT BUDGET"
      ]
    },
    {
      "cell_type": "markdown",
      "metadata": {
        "id": "u3WEDWTO1UnX",
        "colab_type": "text"
      },
      "source": [
        "###PROJECT PERSONNEL"
      ]
    },
    {
      "cell_type": "markdown",
      "metadata": {
        "id": "i8RFJ-np1caz",
        "colab_type": "text"
      },
      "source": [
        "###REFERENCES "
      ]
    }
  ]
}