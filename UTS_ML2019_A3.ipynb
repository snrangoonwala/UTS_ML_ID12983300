{
  "nbformat": 4,
  "nbformat_minor": 0,
  "metadata": {
    "colab": {
      "name": "UTS_ML2019_A3.ipynb",
      "provenance": [],
      "toc_visible": true,
      "include_colab_link": true
    },
    "kernelspec": {
      "name": "python3",
      "display_name": "Python 3"
    }
  },
  "cells": [
    {
      "cell_type": "markdown",
      "metadata": {
        "id": "view-in-github",
        "colab_type": "text"
      },
      "source": [
        "<a href=\"https://colab.research.google.com/github/snrangoonwala/UTS_ML_ID12983300/blob/master/UTS_ML2019_A3.ipynb\" target=\"_parent\"><img src=\"https://colab.research.google.com/assets/colab-badge.svg\" alt=\"Open In Colab\"/></a>"
      ]
    },
    {
      "cell_type": "markdown",
      "metadata": {
        "id": "3ABGezTY7Yem",
        "colab_type": "text"
      },
      "source": [
        "#ASSIGNMENT 3\n",
        "\n",
        "##32513 MACHINE LEARNING\n",
        "##PITCH AND PLAN FOR SOLVING PROBLEM\n",
        "\n",
        "                                           STUDENT ID: 12983300\n",
        "                                           STUDENT NAME: SHIVANG RANGOONWALA\n",
        "\n",
        "\n",
        "##PREDICTION OF CUSTOMER CHURNS IN ECOMMERCE "
      ]
    },
    {
      "cell_type": "markdown",
      "metadata": {
        "id": "KFgn5onbK8jO",
        "colab_type": "text"
      },
      "source": [
        "###INTRODUCTION\n",
        "\n",
        "\n",
        "From 1990s, the usage of internet started growing exponentially. It allowed the internet users to explore the world by sitting infront of machine. E-commerce started growing during this era. As per the figure(1), from 1999 to 2007 the number of users started  growing. With increase of competition, companies started building algorithms to give personalized recommendation based on user's likes. Organization started giving offers to lure customers so that they remain with the service/product/process. This has opened vast option for the internet users to choose from. This is the reason, sometimes customers leave the service and jump to other service providers. It is a threatening situation if we see it from business aspects. That is the reason, it becomes important to predict customer churns so that organization can make necessary changes in the product/process and keep the company growth steady.  \n",
        "\n",
        "The users started liking the new era of shopping, where they can search products from large database, add it in their preference list, buy it when they can afford it. One of the first E-commerce is Amazon Inc. found in 1994. Although, intial years were difficult to survive but in 2006, it represented profit for the first time. The fundamental of e-commerce is to eliminate middle men and supply goods directly to the buyers from vendors. \n",
        "\n"
      ]
    },
    {
      "cell_type": "markdown",
      "metadata": {
        "id": "O1zIG4ke0aN-",
        "colab_type": "text"
      },
      "source": [
        "###AIM AND OBJECTIVES\n",
        "\n",
        "\n",
        "**AIM**\n",
        "\n",
        "The aim of the project is to suggest an hybrid model that forecast B2C (Business to Customer) customer churns and categorize the customers that are likely to leave the organizations. \n",
        "\n",
        "**OBJECTIVES**\n",
        "\n",
        "\n",
        "\n",
        "*   Collect raw data from the database\n",
        "*   Identify customers' purchase pattern\n",
        "\n",
        "*   Identify the cause of churning\n",
        "*   Build prototype to identify customers churn\n",
        "\n",
        "\n",
        "*   Build strategies to retain customers.\n",
        "\n",
        "\n",
        "\n",
        "\n",
        "\n",
        "\n"
      ]
    },
    {
      "cell_type": "markdown",
      "metadata": {
        "id": "cuIy3MsJ1Caz",
        "colab_type": "text"
      },
      "source": [
        "###BACKGROUND\n",
        "\n",
        "Customers are the backbone of e-commerce field. With increasing of competition in e-commerce growth rate of new customers as well as retention of existing customers are equally customers. This will help an organization to remain in the market. \n",
        "\n",
        "Most of the e-commerce organizations use CRM to create and retain cutomers. With reach of customers globally, CRM has been used from very beginning. CRM is used to give personal recommendation for the services users willling to pay for. CRM has below four perspective:\n",
        "\n",
        "\n",
        "\n",
        "1.   Customer Identification\n",
        "2.   Attract customers\n",
        "3.   Retain customers\n",
        "4.   Develop customer relationship\n",
        "\n",
        "It helps earning profits not only by exchanging services in exchange of payments but by maintaining relationship with customers. \n",
        "\n",
        "There are multiple factors that influences customers which are listed as below:\n",
        "\n",
        "1. item – cost of items majorly affects the clients' transactions. The site ought to have bounteous of items and administrations at satisfactory costs. \n",
        "\n",
        "2. plan – the web based business site ought to be alluring, simple to work and advantageous in route to draw in progressively potential customers. \n",
        "\n",
        "3. innovation – utilization of innovation to give customized shopping background to clients like proposals dependent on perusing propensities, recollecting exchange history, keeping installment subtleties secure, and so on is called e-insight which is a driving component to draw in clients. \n",
        "\n",
        "4. administration quality – better assistance quality and unique treatment advantages to clients prompts more e-fulfillment which thus prompts more e-steadfastness. \n",
        "\n",
        "5. coordination – speed of coordination organization affects consumer loyalty. for example in the event that requests show up rapidly, the pace of fulfillment is more. \n",
        "\n",
        "Figure 1 demonstrates the measurements of an overview which says that dominant part of clients proceed onward starting with one internet business then onto the next in light of the fact that they feel they're not being minded or esteemed.\n",
        "\n"
      ]
    },
    {
      "cell_type": "markdown",
      "metadata": {
        "id": "ekG4kkz61Fwf",
        "colab_type": "text"
      },
      "source": [
        "###RESEARCH PROJECT\n",
        "\n",
        "###IMPORTANCE OF THE PROJECT\n",
        "\n",
        "Every business tries to grow in the market and hope to give better customer service and fulfill the customer's expectation. This will help customer to be loyal. Therefore, the importance of the organization depends in understanding client's expectation and requirement from the service providers. To attract the customers, the venture offers promotion codes, customized offers, rebates to the customers and keep the clients loyal to the venture. If the offer is given to all the customers then it will be loss for the organizations. That is the reason, organization has to identify and predict the customers who might leave the providers and join another service providers. This way company can keep a track on customers and keep the loyality at lower cost.\n",
        "\n",
        "### PLAN OF ACTION (POA)\n",
        "\n",
        "We will be achieving objectives by dividing the tasks in stages. Please find the tasks briefly mentioned below:\n",
        "\n",
        "**TASK 1- Collect Data**\n",
        "\n",
        "Huge number of data will be collected of organization's customers. It is the most important task to predict the customer's behaviour effectively. The available data could be in different format and different database (For example different Data Marts), which needs to be integrated and maintained into a uniform database. Required attributes of each database will be used for primary and foreign key.\n",
        "\n",
        "\n",
        "**TASK 2: IDENTIFY CUSTOMER'S PURCHASE HISTORY**\n",
        "\n",
        "Once the data is organized, it can be studied and explored the dataset to find out behaviours and patterns. The data then can be visualized on charts, histograms, plots so that non-technicals personnel and organization heads can understand and make business strategy based on that. We also implement clustering, segmentation algorithms, anomaly detection to detect unusual patterns.\n",
        "\n",
        "\n",
        "\n",
        "**TASK 3: IDENTIFY REASONS FOR CUSTOMER CHURNS**\n",
        "\n",
        "Visualization of data might help to identify the major reasons of customer leaving the services. Those reasons will help venture to reevaluate the strategy and change specific customer pain. \n",
        "\n",
        "**TASK 4: PREPARE MODEL TO INSIGHT CUSTOMER CHURNS**\n",
        "\n",
        "Once data is collected, prepare a model which is useful for prediction of customer churn. For prediction model KNIME and SAS Enterprise Miner will be used. Since, it is a prediction model, Neural Network will be used. Necessary attributes will be used for feature selection.\n",
        "\n",
        "**TASK 5: CLASSIFICATION AND DETERMINE RETENTION STRATEGIES**\n",
        "\n",
        "As per the output received from the model, suitable business strategy will be used to retain customers. K-means, fuzzy KNN, and random forest classifier has the highest efficiency in test environment. We will be using the same classifiers in production. The various retention strategies such as personalized offers, customer service, service integrity, product integrity, surveys, loyalty programs, and so on. \n",
        "\n",
        "\n",
        "###SIGNIFICANCE OF OUTCOME\n",
        "\n",
        "From business point of view, more customers will be able to retained. It will directly impact the organization's growth. Moreover, the collected data will be on secured cloud servers. This will help us to cut down initial cost. There will only one time cost for building the model. Once the model is built, the output will enhance the image of the service provider in the market.\n",
        "\n",
        "### PROJECT TIMELINE\n",
        "\n",
        "The project timeline comprises of six phases and listed below.\n",
        "\n",
        "Phases | Timeline\n",
        "--- | ---\n",
        "Phase I: Business Understanding | 1 month\n",
        "Phase II: Data collection | 1 month\n",
        "Phase III: Data Understanding | 1 month\n",
        "Phase IV: Data modelling | 3.5 months\n",
        "Phase V: Evaluation of model | 1.5 months\n",
        "Phase VI: Deploying model in production environment | 3 months\n",
        "\n",
        "Each phase is assigned budget and timeline. For better understanding Gantt chart is attached. It will allow project managers to visualize better and efficiently.\n",
        "\n",
        "\n",
        "\n"
      ]
    },
    {
      "cell_type": "code",
      "metadata": {
        "id": "fhJaTukY34Qh",
        "colab_type": "code",
        "colab": {}
      },
      "source": [
        "from google.colab import files\n",
        "from IPython.display import Image"
      ],
      "execution_count": 0,
      "outputs": []
    },
    {
      "cell_type": "code",
      "metadata": {
        "id": "vgmb1Yuc4B5V",
        "colab_type": "code",
        "colab": {}
      },
      "source": [
        "display(Image('/content/gantt chart.png', width =525))"
      ],
      "execution_count": 0,
      "outputs": []
    },
    {
      "cell_type": "markdown",
      "metadata": {
        "id": "ka7EHQVa1KxR",
        "colab_type": "text"
      },
      "source": [
        "###PROJECT BUDGET\n",
        "\n",
        "The budget is assigned to each phase as shown in table below. Additional cost has been kept in case of disaster recovery.\n",
        "\n",
        "Phase Name | Cost/Day (AUD) | No of days | Cost\n",
        "---| --- | --- | ---|\n",
        "Business Understanding | 225 | 30 | 6750\n",
        "Data Collection | 200 | 30 | 6000\n",
        "Data Understanding | 300 | 30 | 9000\n",
        "Data Modelling | 320 | 75 | 24000\n",
        "Evaluation of Model | 400 | 45 | 18000\n",
        "Additional Cost | 5000 | | 5000\n",
        "Total| | | 68750\n",
        "\n"
      ]
    },
    {
      "cell_type": "markdown",
      "metadata": {
        "id": "u3WEDWTO1UnX",
        "colab_type": "text"
      },
      "source": [
        "###STAKEHOLDERS\n",
        "\n",
        "The stakeholders are the personnel who will directly or indirectly be affected by the decision made by the organization. The list is as below shown.\n",
        "\n",
        "Stakeholders | Number | Contribution\n",
        "--- | --- | --- |\n",
        "Project Head | 1 | Manage project with respect to resources, budget, and timeline\n",
        "Team Leader | 1 | Leading the team in right direction\n",
        "Customer Service Manager | 1 | Help in understanding customers' expectation\n",
        "Data Analysts | 3 | Build the model \n",
        "Data Scientists | 1 | Effictively communicate with tech and non-tech terms. Visualize the data and automate the process.\n",
        "Customers | NA | Use services of the service provider \n",
        "\n"
      ]
    },
    {
      "cell_type": "markdown",
      "metadata": {
        "id": "i8RFJ-np1caz",
        "colab_type": "text"
      },
      "source": [
        "###REFERENCES \n",
        "\n",
        "Cao, J., Yu, X. and Zhang, Z. (2015) ‘Integrating OWA and data mining for analyzing customers churn in E-commerce’, Journal of Systems Science and Complexity, 28(2), pp. 381–392. doi: 10.1007/s11424-015-3268-0.\n",
        "\n",
        "Gordini, N. and Veglio, V. (2017) ‘Customers churn prediction and marketing retention strategies. An application of support vector machines based on the AUC parameter-selection technique in B2B e-commerce industry’, Industrial Marketing Management, 62, pp. 100–107. doi: 10.1016/j.indmarman.2016.08.003.\n",
        "\n",
        "IBM (2013) ‘Minimize customer churn with analytics’, doi: 10.1016/j.newar.2008.04.003.\n",
        "\n",
        "Nguyen, E. H. X. (2011) ‘Customer Churn Prediction for the Icelandic Mobile Telephony Market’, pp. 1–109.\n",
        "\n",
        "Renjith, S. (2015) ‘An Integrated Framework to Recommend Personalized Retention Actions to Control B2C E-Commerce Customer Churn’, International Journal of Engineering Trends and Technology, 27(3), pp. 152–157. doi: 10.14445/22315381/IJETT-V27P227.\n",
        "\n",
        "Yu, X. et al. (2011) ‘An extended support vector machine forecasting framework for customer churn in e-commerce’, Expert Systems with Applications. Elsevier Ltd, 38(3), pp. 1425–1430. doi: 10.1016/j.eswa.2010.07.049.\n"
      ]
    },
    {
      "cell_type": "markdown",
      "metadata": {
        "id": "W0PbUYwa9mBv",
        "colab_type": "text"
      },
      "source": [
        "### VIDEO PITCH\n",
        "\n"
      ]
    }
  ]
}