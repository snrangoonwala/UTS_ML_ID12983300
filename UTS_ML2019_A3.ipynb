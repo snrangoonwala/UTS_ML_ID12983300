{
  "nbformat": 4,
  "nbformat_minor": 0,
  "metadata": {
    "colab": {
      "name": "UTS_ML2019_A3.ipynb",
      "provenance": [],
      "include_colab_link": true
    },
    "kernelspec": {
      "name": "python3",
      "display_name": "Python 3"
    }
  },
  "cells": [
    {
      "cell_type": "markdown",
      "metadata": {
        "id": "view-in-github",
        "colab_type": "text"
      },
      "source": [
        "<a href=\"https://colab.research.google.com/github/snrangoonwala/UTS_ML_ID12983300/blob/master/UTS_ML2019_A3.ipynb\" target=\"_parent\"><img src=\"https://colab.research.google.com/assets/colab-badge.svg\" alt=\"Open In Colab\"/></a>"
      ]
    },
    {
      "cell_type": "markdown",
      "metadata": {
        "id": "3ABGezTY7Yem",
        "colab_type": "text"
      },
      "source": [
        "#ASSIGNMENT 3\n",
        "\n",
        "##32513 MACHINE LEARNING\n",
        "##PITCH AND PLAN FOR SOLVING PROBLEM\n",
        "\n",
        "                                           STUDENT ID: 12983300\n",
        "                                           STUDENT NAME: SHIVANG RANGOONWALA\n",
        "\n",
        "\n",
        "##PREDICTION OF CUSTOMER CHURNS IN ECOMMERCE "
      ]
    },
    {
      "cell_type": "markdown",
      "metadata": {
        "id": "KFgn5onbK8jO",
        "colab_type": "text"
      },
      "source": [
        "###INTRODUCTION\n",
        "\n",
        "\n",
        "From 1990s, the usage of internet started growing exponentially. It allowed the internet users to explore the world by sitting infront of machine. E-commerce started growing during this era. As per the figure(1), from 1999 to 2007 the number of users started  growing. With increase of competition, companies started building algorithms to give personalized recommendation based on user's likes. Organization started giving offers to lure customers so that they remain with the service/product/process. This has opened vast option for the internet users to choose from. This is the reason, sometimes customers leave the service and jump to other service providers. It is a threatening situation if we see it from business aspects. That is the reason, it becomes important to predict customer churns so that organization can make necessary changes in the product/process and keep the company growth steady.  \n",
        "\n",
        "The users started liking the new era of shopping, where they can search products from large database, add it in their preference list, buy it when they can afford it. One of the first E-commerce is Amazon Inc. found in 1994. Although, intial years were difficult to survive but in 2006, it represented profit for the first time. The fundamental of e-commerce is to eliminate middle men and supply goods directly to the buyers from vendors. \n",
        "\n"
      ]
    },
    {
      "cell_type": "markdown",
      "metadata": {
        "id": "O1zIG4ke0aN-",
        "colab_type": "text"
      },
      "source": [
        "###AIM AND OBJECTIVES\n",
        "\n",
        "\n",
        "**AIM**\n",
        "\n",
        "The aim of the project is to suggest an hybrid model that forecast B2C (Business to Customer) customer churns and categorize the customers that are likely to leave the organizations. \n",
        "\n",
        "**OBJECTIVES**\n",
        "\n",
        "\n",
        "\n",
        "*   Collect raw data from the database\n",
        "*   Identify customers' purchase pattern\n",
        "\n",
        "*   Identify the cause of churning\n",
        "*   Build prototype to identify customers churn\n",
        "\n",
        "\n",
        "*   Build strategies to retain customers.\n",
        "\n",
        "\n",
        "\n",
        "\n",
        "\n",
        "\n"
      ]
    },
    {
      "cell_type": "markdown",
      "metadata": {
        "id": "cuIy3MsJ1Caz",
        "colab_type": "text"
      },
      "source": [
        "###BACKGROUND\n",
        "\n",
        "Customers are the backbone of e-commerce field. With increasing of competition in e-commerce growth rate of new customers as well as retention of existing customers are equally customers. This will help an organization to remain in the market. \n",
        "\n",
        "Most of the e-commerce organizations use CRM to create and retain cutomers. With reach of customers globally, CRM has been used from very beginning. CRM is used to give personal recommendation for the services users willling to pay for. CRM has below four perspective:\n",
        "\n",
        "\n",
        "\n",
        "1.   Customer Identification\n",
        "2.   Attract customers\n",
        "3.   Retain customers\n",
        "4.   Develop customer relationship\n",
        "\n",
        "It helps earning profits not only by exchanging services in exchange of payments but by maintaining relationship with customers. \n",
        "\n"
      ]
    },
    {
      "cell_type": "markdown",
      "metadata": {
        "id": "ekG4kkz61Fwf",
        "colab_type": "text"
      },
      "source": [
        "###RESEARCH PROJECT"
      ]
    },
    {
      "cell_type": "markdown",
      "metadata": {
        "id": "ka7EHQVa1KxR",
        "colab_type": "text"
      },
      "source": [
        "###PROJECT BUDGET"
      ]
    },
    {
      "cell_type": "markdown",
      "metadata": {
        "id": "u3WEDWTO1UnX",
        "colab_type": "text"
      },
      "source": [
        "###PROJECT PERSONNEL"
      ]
    },
    {
      "cell_type": "markdown",
      "metadata": {
        "id": "i8RFJ-np1caz",
        "colab_type": "text"
      },
      "source": [
        "###REFERENCES "
      ]
    }
  ]
}