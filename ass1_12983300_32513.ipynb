{
  "nbformat": 4,
  "nbformat_minor": 0,
  "metadata": {
    "colab": {
      "name": "ass1_12983300_32513.ipynb",
      "version": "0.3.2",
      "provenance": [],
      "include_colab_link": true
    },
    "kernelspec": {
      "name": "python3",
      "display_name": "Python 3"
    }
  },
  "cells": [
    {
      "cell_type": "markdown",
      "metadata": {
        "id": "view-in-github",
        "colab_type": "text"
      },
      "source": [
        "<a href=\"https://colab.research.google.com/github/snrangoonwala/UTS_ML_ID12983300/blob/master/ass1_12983300_32513.ipynb\" target=\"_parent\"><img src=\"https://colab.research.google.com/assets/colab-badge.svg\" alt=\"Open In Colab\"/></a>"
      ]
    },
    {
      "cell_type": "markdown",
      "metadata": {
        "id": "h6bDq59SytP_",
        "colab_type": "text"
      },
      "source": [
        "#Assignment 1\n",
        "##Understanding the literature\n",
        "\n",
        "Student no: 12983300 \n",
        "\n",
        "\n",
        "Student Name: Shivang Rangoonwala"
      ]
    },
    {
      "cell_type": "markdown",
      "metadata": {
        "id": "vvQDYbJxzqEW",
        "colab_type": "text"
      },
      "source": [
        "### STUDYING FACE RECOGNITION ALGORITHM FOR DIFFERENT EXPRESSION\n",
        "Peter N. Belhumeur, Jo~ao P. Hespanha, and David J. Kriegman"
      ]
    },
    {
      "cell_type": "markdown",
      "metadata": {
        "id": "HwodMM7T0LF2",
        "colab_type": "text"
      },
      "source": [
        "##INTRODUCTION\n",
        "The report is about literature review of the journal articles based on algorithm used for facial recognition written by D. J. Kriegman, J. P. Hespanha, P. N. Belhumeur. The articles will be reviewed based on content, originality, research done by authors and scope of the research. The article was published in “IEEE TRANSACTIONS ON PATTERN ANALYSIS AND MACHINE INTELLIGENCE” in July 1997."
      ]
    },
    {
      "cell_type": "markdown",
      "metadata": {
        "id": "UqKv7ojm0TEy",
        "colab_type": "text"
      },
      "source": [
        "##CONTENT\n",
        "\n",
        "###BACKGROUND OF THE TOPIC AND CONTENT\n",
        "Before the authors did research on mentioned topic, there were few articles published suggesting algorithms. The study in this field of face and pattern recognition was started in 1936 when Robert Fisher developed Linear Discrimination. After that two researcher Baker and Nayar also developed pattern rejection using multiple class LD (Linear Discriminant). The authors used images of Harvard Database and Yale to compare the output. They proposed algorithm to identify faces in different variations of lights and face expression. Using Fisherface and Eigenface method, correlation and linear subspace techniques, they found that Fisherface has lower error rates than other methods.\n",
        "\n",
        "Overall, the paper is to summarize current process and techniques for face recognition suggested by other researchers and propose new algorithm based on Fisherface method. The main objective of the article is to get higher accuracy which other algorithms fail due to variations in direction of light and change of expression. The article doesn’t cover variation of the pose to recognize the face/pattern. \n",
        "The researchers have given credits to the work of other researchers as well in the article. The authors have covered why existing algorithm needs to be revaluated and need better algorithm for recognition. \n",
        "Concluding contribution of the researchers on the paper, below are the points:\n",
        "\n",
        "\n",
        "1.\tUnderstanding and comparison of existing three algorithms: Fisher’s method, Linear Subspace, Eigenface method and Correlation.\n",
        "2. \tUse of Harvard Database and Yale Database for testing the new algorithm\n",
        "3.\tConsidering other factors like illumination, Glasses, and expression how results can change.\n",
        "\n"
      ]
    },
    {
      "cell_type": "markdown",
      "metadata": {
        "id": "ckTkOyEZ088i",
        "colab_type": "text"
      },
      "source": [
        "#INNOVATION\n",
        "\n",
        "Belhumeur, Hespanha and Kriegman’s paper is innovative as it successfully examines four methods available in the industry. They used Harvard Database in which lighting is varying (Figure 1). They also wanted their experiment to get successful if the expression in the image changes. For that, they developed another database, where lights and expression changes.\n",
        "\n",
        "\n",
        "\n",
        "They considered the lighting direction as well to evaluate error rate in which they found that Fisherface algorithm is the most effective as show in Figure 3 graph. It has been suggested by the authors that if the face image is kept in the Lambertian surface kept in linear space, the accuracy can be increased. Once, the image is kept in the linear subspace, it then be divided in 5 subsets as shown in figure 2.  From this subset, the machine can determine the direction of the light. The subset 1 is then used for training and then tested on subset 1 to 3. The result shows that the Fisherface method has the lowest error rate as shown in Table 1. This method has been named as Extrapolation. On the other hand, the authors also used Interpolation method where algorithm was trained subset 1 and 5, then tested on subset two to four. In both methods, Fisherface method has the lowest error rate. The suggested method is one of the innovative ideas I found in the article to divide image in subsets which lowers error rate.  Another innovative research done by the authors is about recognition of a face when subject wears glasses. On top of that, to make real life scenario, author included change of expression like happy, sleepy, sad, surprise etc. to determine the successful rate.\n",
        "\n",
        "It has been mentioned in the article that depending upon image cropped, the error rate cane be changed. In all four methods, full face image gives better success rate than close crop. For same experiment, Fisherface method has more accuracy than Eigenface. \n"
      ]
    },
    {
      "cell_type": "code",
      "metadata": {
        "id": "3cEIcfwF35GX",
        "colab_type": "code",
        "colab": {}
      },
      "source": [
        "from google.colab import files\n",
        "uploaded = files.upload()\n"
      ],
      "execution_count": 0,
      "outputs": []
    },
    {
      "cell_type": "markdown",
      "metadata": {
        "id": "3Nhd44KG1gPb",
        "colab_type": "text"
      },
      "source": [
        "##TECHNICAL QUALITY\n",
        "\n",
        "The detail of the paper is dubious and perplexing as the creators have taken little endeavours in depicting the semantic examination procedure. This makes it somewhat hard for an individual to comprehend the procedure and investigations on the off chance that they have no earlier information of the equivalent. The strategies were straightforwardly utilized without explaining why and talking about other potential procedures and the outcomes were exhibited for correlation. The authors assumed that readers know how pattern recognition works and Fundamentals of all four methods.  I had to go through articles to understand technicality of Fisherface methods (Etemad &Chellapa, 1997).\n",
        "\tTo understand why Fisherface has higher accuracy as compared to other methods, I have read (Wang et al., 2004) and article written by (Zheng et al., 2006). \n",
        "To find out the technique mentioned in the article named “leaving-one-out” has been mentioned in the book written by (Duda et al., 1995). It has been mentioned in the article that the researchers haven’t made any attempt in change of pose.\n",
        "Subsequently, if I needed to rate the specialized nature of the paper, I would state it is somewhat less on account of the absence of depiction of specialized and numerical calculations that are performed in the paper.\n"
      ]
    },
    {
      "cell_type": "code",
      "metadata": {
        "id": "eIwlzU0y9NNP",
        "colab_type": "code",
        "colab": {}
      },
      "source": [
        "from google.colab import files\n",
        "upload = files.upload()"
      ],
      "execution_count": 0,
      "outputs": []
    },
    {
      "cell_type": "markdown",
      "metadata": {
        "id": "ldyk3WZu1pks",
        "colab_type": "text"
      },
      "source": [
        "##X FACTOR AND APPLICATION\n",
        "The interesting factor about the research is in the topic itself. The research paper is quite deep-rooted, and many researches has been done on the specific topic by now. Though during the time when research was held it was huge success and considered as pioneer for the field. It is astonishing how the whole image can be considered as a group of subsets to determine facial expressions and direction of light. The idea of taking parts of the whole picture drastically reduced the error rate from 43% to 7% which can be considered as huge progress. The authors have nearly eliminated almost all the possible real-life scenario by considering use of linear subspace. \n",
        "\tThey used the data from Harvard Database for the experiment, but the dataset was restricted with light variation and face expression. To prove the theory authors created Yale Database which includes 160 images. One significant factor important is that the paper does not start any discussion in the information examination applications as there isn't much utilization of any imaginative information mining strategies. A great deal an extension for future work is there, thinking about the advances in profound learning procedures and AI strategies. \n",
        "\tThe application of the experiment result has the potential to implement in real world. Although, the application from the result of experiment is not mentioned in the article, the application is endless. The current technology being used is based on the result of article.\n"
      ]
    },
    {
      "cell_type": "markdown",
      "metadata": {
        "id": "duABuNsh1y3z",
        "colab_type": "text"
      },
      "source": [
        "##PRESENTATION\n",
        "\n",
        "This research paper is of high caliber with fantastic presentation. The creators have plainly expressed the idea of what they are trying to achieve and how they are attempting to achieve it. The writing audit talks about the past work that has been done in this field and state why the excellent method will be beneficial than the past techniques. The creator has exhibited the discoveries of the considerable number of papers and then quickly clarified what they allude from that research and how they will over-come the deficiencies in their research which makes the system simple to pursue. \n",
        "\n",
        "In each period of the research article, for example, information depiction, pre-preparing of information, Prior-extremity scoring, planning the tree part, proposing a set of highlights, include examination and the experiments played out the writers have cross-approved their discoveries with past work which makes their presentation and research viable. \n",
        "\n",
        "The paper is all around organized and streamlined which makes it straightforward. There is no perplexity in exhibiting the analysis results. They started with what they expected to do, how they expected to do, what was the result, and in what way can their work be expanded further. As talked about before, the primary watchword and method that this paper focusses on is the semantic investigation and enough depiction is accommodated a similar, for example, strategy of executing, speculative and scientific counts got for the diverse classifier models, and so on. Regardless, the significance excluded some low down delineation concerning the essentials of semantic investigation which is believed to be the point of convergence of this paper. \n",
        "\n",
        "The language of the paper was basic and direct. The best piece of the paper was that every one of the discoveries and calculations was displayed in graphs and tables structure which made it simpler to abridge the discoveries of the experiments performed by the creators. The experiments gave a noteworthy lift and improved the specialized quality and presentation of the paper. All figures were genuinely referenced and clarified.\n"
      ]
    },
    {
      "cell_type": "markdown",
      "metadata": {
        "id": "UT5pywNp1841",
        "colab_type": "text"
      },
      "source": [
        "##REFERENCES\n",
        "\n",
        "Duda R. O., Hart P. E., Stork D. G., 1995, Pattern Classification and Scene Analysis, 2nd edn, John Wiley and sons, California, USA\n",
        "\n",
        "K. Etemad and R. Chellapa, Discriminant Analysis for Recognition of Human Face Images, J. Optics of Am. A, vol. 14, no. 8 pp. 1724-1733, 1997\n",
        "\n",
        "Zheng W., Zhou X., Zou C., Zhao L. 2006, ‘Facial Expression Recognition using Kernel Canonical Correlation Analysis (KCCA)’, IEEE Transections on Neural Network, Vol 17 no 1, pp. 233-237\n"
      ]
    }
  ]
}